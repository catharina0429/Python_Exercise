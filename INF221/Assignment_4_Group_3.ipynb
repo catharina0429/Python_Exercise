{
  "nbformat": 4,
  "nbformat_minor": 0,
  "metadata": {
    "colab": {
      "name": "Assignment_4_Group_3.ipynb",
      "provenance": [],
      "collapsed_sections": []
    },
    "kernelspec": {
      "name": "python3",
      "display_name": "Python 3"
    },
    "language_info": {
      "name": "python"
    }
  },
  "cells": [
    {
      "cell_type": "markdown",
      "metadata": {
        "id": "d_TcD6BtKfWr"
      },
      "source": [
        "#INF221 Assignment 3 Group 3\n",
        "##Jisoo Park, Jorge Eduardo Hermoso Valle, Aria (Ian) McKenney"
      ]
    },
    {
      "cell_type": "markdown",
      "metadata": {
        "id": "eF5_QNXHItnl"
      },
      "source": [
        "## Exercise 1\n",
        "Explain why the statement, \"The running time of algorithm A is at least $O(n^2)$\" is meaningless [Cormen et al, Exercise 3.1-3]."
      ]
    },
    {
      "cell_type": "markdown",
      "metadata": {
        "id": "8Q2V336lZYF3"
      },
      "source": [
        "If we let $T(n)$ represent the running time of algorithm A we can interpret \"The running time of algorithm A is at least $O(n^2)$\" as:\n",
        "\n",
        "$$\n",
        "T(n) \\geq O(n^2)\n",
        "$$\n",
        "\n",
        "so $T(n) \\geq f(n)$ where $f(n) \\in O(n^2)$. However $f(n)$ could simply be $f(n) = 0$ which is in $O(n^2)$, and saying $T(n) \\geq 0$ is effectively meaningless as an algorithm will always take some time."
      ]
    },
    {
      "cell_type": "markdown",
      "metadata": {
        "id": "9qn0r5N9ItRq"
      },
      "source": [
        "## Exercise 2\n",
        "\n",
        "Suppose we are comparing the implementations of two algorithms on the same machine. For inputs of size , algorithm 1 runs $8n^2$steps, while algorithm 2 runs $64n \\log n$ steps. For which values of n is algorithm 1 faster than algorithm 2? \n",
        "\n"
      ]
    },
    {
      "cell_type": "markdown",
      "metadata": {
        "id": "_35SbSeB6Hj1"
      },
      "source": [
        "$8n^2 < 64 n \\log n  => 8 \\times n \\times n < 64 \\times n \\times \\log_{2} n \\\\ \n",
        "~~~~~~~~~~~~~~~~~~~~~~~~~~= n < 8 \\times \\log_{2} n \\\\\n",
        "~~~~~~~~~~~~~~~~~~~~~~~~~~= \\frac{1}{8} < \\frac{\\log_{2} n}{n}$\n",
        "\n",
        "To solve this equation, we used python"
      ]
    },
    {
      "cell_type": "code",
      "metadata": {
        "colab": {
          "base_uri": "https://localhost:8080/",
          "height": 333
        },
        "id": "MxrR8d6lNVv-",
        "outputId": "9a65b650-e208-4549-cc6a-a4c945de7fc1"
      },
      "source": [
        "import numpy as np\n",
        "import matplotlib.pyplot as plt\n",
        "\n",
        "x = np.arange(100) + 1 # from 1 \n",
        "\n",
        "y1 = 64 * x * np.log2(x) # algorithm 1\n",
        "y2 = 8 * x * x           # algorithm 2\n",
        "\n",
        "print(\"Algorithm 1 values from x = 41 :\", y1[40:45])\n",
        "print(\"Algorithm 2 values from x = 41 :\", y2[40:45])\n",
        "plt.title(\"comparison two algorithms\")\n",
        "plt.plot(x, y1, 'r') # algorithm 1\n",
        "plt.plot(x, y2, 'b') # algorithm 2\n",
        "plt.axvline(x=43)\n",
        "plt.show()"
      ],
      "execution_count": null,
      "outputs": [
        {
          "output_type": "stream",
          "name": "stdout",
          "text": [
            "Algorithm 1 values from x = 41 : [14058.21646012 14494.54923243 14933.08060494 15373.75943808\n",
            " 15816.53691743]\n",
            "Algorithm 2 values from x = 41 : [13448 14112 14792 15488 16200]\n"
          ]
        },
        {
          "output_type": "display_data",
          "data": {
            "image/png": "[encoded data removed]",
            "text/plain": [
              "<Figure size 432x288 with 1 Axes>"
            ]
          },
          "metadata": {
            "needs_background": "light"
          }
        }
      ]
    },
    {
      "cell_type": "markdown",
      "metadata": {
        "id": "95O5oxXRPCll"
      },
      "source": [
        "|$n$|Value of $8n^2$|Value of $64n\\lg{n}$|\n",
        "|---|---------------|--------------------|\n",
        "|41|13448|14058.22|\n",
        "|42|14112|14494.55|\n",
        "|43|14792|14933.08|\n",
        "|44|15488|15373.66|\n",
        "\n",
        "We can see from our plot that $8n^2$ is less than $64n\\lg{n}$ for all $n \\leq 43$ so $8n^2 \\lt 64n\\lg{n}$ for all $1 \\lt n \\leq 43$.\n",
        "\n",
        "Therefore, `algorithm 1` is faster then `algorithm 2` for all $1 \\lt n \\leq 43$ ."
      ]
    },
    {
      "cell_type": "markdown",
      "metadata": {
        "id": "cREUr5by2Dvq"
      },
      "source": [
        "## Exercise 3\n",
        "\n",
        "Use the insertion sort algorithm to sort the array A = [10, 6, 8, 9, 7]. Illustrate the progress of the pseudocode algorithm from the lecture using a table. The table shall have one row for each repetition of the for loop spanning rows 2-8 and shall show the values of j, i, key, and A for each repetition immediately after line 4 has been executed; a final line in the table shall show A after the algorithm has terminated.\n",
        "\n",
        "### Example \n",
        "A = [c, a, b]:\n",
        "\n",
        "|      j     | i | key |     A     |\n",
        "|:----------:|:-:|:---:|:---------:|\n",
        "|      2     | 1 |  a  | [c, a, b] |\n",
        "|      3     | 2 |  b  | [a, c, b] |\n",
        "| Terminated |   |     | [a, b, c] |\n",
        "\n",
        "\n",
        "### Solution\n",
        "A = [10, 6, 8, 9, 7]:\n",
        "\n",
        "|      j     | i | key |         A        |\n",
        "|:----------:|:-:|:---:|:----------------:|\n",
        "|      2     | 1 |  6  | [10, 6, 8, 9, 7] |\n",
        "|      3     | 2 |  8  | [6, 10, 8, 9, 7] |\n",
        "|      4     | 3 |  9  | [6, 8, 10, 9, 7] |\n",
        "|      5     | 4 |  7  | [6, 8, 9, 10, 7] |\n",
        "| Terminated |   |     | [6, 7, 8, 9, 10] |"
      ]
    },
    {
      "cell_type": "markdown",
      "metadata": {
        "id": "m_3mlsn28Cpv"
      },
      "source": [
        "## Exercise 4\n",
        "Given the following list:\n",
        "\n",
        "[54, 26, 92, 17, 77, 33, 44, 55, 22]\n",
        "\n",
        " Using the mergesort algorithm, show the steps of merge sort.  Show all steps from an unsorted to a sorted list.\n",
        "\n",
        "Note: Use the algorithm we had in the lecture\n",
        "<br/><br/>\n",
        "**Step 1:**\n",
        "Split the list in 2 lists as even as possible\n",
        "\n",
        "[54, 26, 92, 17, 77] [33, 44, 55, 22]\n",
        "<br/><br/>\n",
        "**Step 2:** \n",
        "Split the left list as even as possible\n",
        "\n",
        "[54, 26, 92] [17, 77]\n",
        "<br/><br/>\n",
        "\n",
        "**Step 3:** \n",
        "Split the left list as even as possible\n",
        "\n",
        "[54, 26] [92]\n",
        "<br/><br/>\n",
        "\n",
        "**Step 4:** \n",
        "Split the left list as even as possible\n",
        "\n",
        "[54] [26]\n",
        "<br/><br/>\n",
        "\n",
        "**Step 5:** \n",
        "It's not possible to split lists with length=1, then they are merged in sorted order\n",
        "\n",
        "[26, 54]\n",
        "<br/><br/>\n",
        "\n",
        "**Step 6:** \n",
        "Take the remaining right list from the previous split (Step 3), it can not be split and it is ready to merge\n",
        "\n",
        "[92]\n",
        "<br/><br/>\n",
        "\n",
        "**Step 7:**\n",
        "Take the 2 sorted lists (Step 5 and 6) and merge them together, in sorted order. Selecting the smallest value from the front of each list (excluding values already in the sorted list)\n",
        "\n",
        "[26, 54, 92]\n",
        "<br/><br/>\n",
        "\n",
        "**Step 8:** \n",
        "Take the remaining right list from the previous split (Step 2), and split it as even as possible\n",
        "\n",
        "[17] [77]\n",
        "<br/><br/>\n",
        "\n",
        "**Step 9:** \n",
        "It's not possible to split lists with length=1, then they are merged in sorted order\n",
        "\n",
        "[17, 77]\n",
        "<br/><br/>\n",
        "\n",
        "**Step 10:** \n",
        "Take the 2 sorted lists (Step 7 and 9) and merge them together, in sorted order. Selecting the smallest value from the front of each list (excluding values already in the sorted list)\n",
        "\n",
        "[17, 26, 54, 77, 92]\n",
        "<br/><br/>\n",
        "\n",
        "**Step 11:** \n",
        "Take the remaining right list from the previous split (Step 1), and split it as even as possible\n",
        "\n",
        "[33, 44] [55, 22]\n",
        "<br/><br/>\n",
        "\n",
        "**Step 12:** \n",
        "Split the left list as even as possible\n",
        "\n",
        "[33, 44]\n",
        "<br/><br/>\n",
        "\n",
        "**Step 13:** \n",
        "Split the left list as even as possible\n",
        "\n",
        "[33] [44]\n",
        "<br/><br/>\n",
        "\n",
        "**Step 14:** \n",
        "It's not possible to split lists with length=1, then they are merged in sorted order\n",
        "\n",
        "[33, 44]\n",
        "<br/><br/>\n",
        "\n",
        "**Step 15:** \n",
        "Take the remaining right list from the previous split (Step 11), and split it as even as possible\n",
        "\n",
        "[55] [22]\n",
        "<br/><br/>\n",
        "\n",
        "**Step 16:** \n",
        "It's not possible to split lists with length=1, then they are merged in sorted order\n",
        "\n",
        "[22, 55]\n",
        "<br/><br/>\n",
        "\n",
        "**Step 17:** \n",
        "Take the 2 sorted lists (Step 14 and 16) and merge them together, in sorted order. Selecting the smallest value from the front of each list (excluding values already in the sorted list)\n",
        "\n",
        "[22, 33, 44, 55]\n",
        "<br/><br/>\n",
        "\n",
        "**Step 18:** \n",
        "Take the 2 sorted lists (Step 10 and 17) and merge them together, in sorted order. Selecting the smallest value from the front of each list (excluding values already in the sorted list)\n",
        "\n",
        "[17, 22, 26 33, 44, 54, 55, 77, 92]"
      ]
    }
  ]
}