{
  "nbformat": 4,
  "nbformat_minor": 0,
  "metadata": {
    "colab": {
      "name": "Assignment_6_group_3.ipynb",
      "provenance": [],
      "collapsed_sections": []
    },
    "kernelspec": {
      "name": "python3",
      "display_name": "Python 3"
    },
    "language_info": {
      "name": "python"
    }
  },
  "cells": [
    {
      "cell_type": "markdown",
      "metadata": {
        "id": "m6GYaCCLcyei"
      },
      "source": [
        "# Assignment 6\n",
        "## Group 3\n",
        "## Jisoo Park, Jorge Eduardo Hermoso Valle, Aria (Ian) McKenney"
      ]
    },
    {
      "cell_type": "markdown",
      "metadata": {
        "id": "6jq8OFu4c1K8"
      },
      "source": [
        "## Exercise 1\n",
        "\n",
        "Is it possible to build a queue using two stacks?. If yes, explain how and analyze the running time of the queue operations  (CLRS 10.1-6).\n",
        "\n",
        "Yes it is possible, the idea is to reverse the order of the elements in the stack by using a second stack. First we push all the elements in the first stack, then to deque we can pop each element to the seocnd stack resulting in a reverse order, allowing to have a FIFO Data Structure.\n",
        "\n",
        "Next we will show how to create Queue operations by implementing stack operations.\n",
        "\n",
        "Let's say we have 2 stacks ($S1$ & $S2$).\n",
        "\n",
        "Queue operations:\n",
        "\n",
        "**1.-  `isEmpty`**\n",
        "```\n",
        "Return \n",
        "  S1.isEmpty && S2.isEmpty\n",
        "```\n",
        "Running time: $O(1)$\n",
        "\n",
        "**2.- `size`**\n",
        "```\n",
        "Return \n",
        "  S1.size + S2.size\n",
        "```\n",
        "Running time: $O(1)$\n",
        "\n",
        "**3.- `enque`**\n",
        "```\n",
        "Return\n",
        "  S1.push(e)\n",
        "```\n",
        "Running time: $O(n)$\n",
        "\n",
        "**4.- `deque`**\n",
        "```\n",
        "if(S2.isEmpty):\n",
        "  While(not S1.isEmpty):\n",
        "    S2.push(S1.pop)\n",
        "  EndWhile\n",
        "EndIf\n",
        "Return S2.pop\n",
        "```\n",
        "Running time: $O(n)$\n",
        "\n",
        "**5.- `front`**\n",
        " ```\n",
        "if(S2.isEmpty):\n",
        "  While(not S1.isEmpty):\n",
        "    S2.push(S1.pop)\n",
        "  EndWhile\n",
        "EndIf\n",
        "Return S2.peek\n",
        "```\n",
        "Running time: $O(n)$"
      ]
    },
    {
      "cell_type": "markdown",
      "metadata": {
        "id": "ROhNXW9vc5AD"
      },
      "source": [
        "## Exercise 2\n",
        "\n",
        "Is it possible to build a stack using two queues? if yes, explain how and analyze the running time of the stack operations (CLRS 10.1-7)."
      ]
    },
    {
      "cell_type": "markdown",
      "metadata": {
        "id": "gKIFbliTc5L6"
      },
      "source": [
        "Yes, it is possible to build a stack using two queues. If we take two queues, $q1$ and $q2$, to `push` an element, $e$, to our stack we do one of two things. If $q1$ is empty, we simply `enqueue` $e$ to $q1$. If $q1$ is not empty, we do the following:\n",
        "\n",
        "|Step|Operation|Time|\n",
        "|----|---------|----|\n",
        "|1|`enqueue` $e$ to $q2$|O(1)|\n",
        "|2|`enqueue` all elements from $q1$ to $q2$|n times O(1)|\n",
        "|3|`dequeue` all elements from $q1$|n times O(1)|\n",
        "|4|Swap the names of $q1$ and $q2$ (i.e. $q1$ becomes $q2$ and vice-versa)|O(1)|\n",
        "\n",
        "To `pop` an element we simply have to `dequeue` $q1$. The running time of `push` is $2n \\times O(1)$ which is $O(n)$ and the running time of `pop` is $O(1)$"
      ]
    },
    {
      "cell_type": "markdown",
      "metadata": {
        "id": "B7jHAg1Dc5hX"
      },
      "source": [
        "## Exercise 3\n",
        "\n",
        "Is it possible to build a queue by a singly linked list?. if yes, explain how (CLRS 10.2-3)"
      ]
    },
    {
      "cell_type": "markdown",
      "metadata": {
        "id": "WpOzXctzc5k4"
      },
      "source": [
        "Yes. It is possible to build a queue to singly-linked list.\n",
        "A queue has a Head and Tail. When the new elements are added, it comes from the tail, however, when it is removed from the queue, it goes from the head. This is because the queue has a way of First-In, First-Out. When an element is enqueued, it takes its place at the tail of the linked list. The element dequeued is always the one at the head of the linked list.[CLRS book 234 pages] Using this property, if we enqueue an element we set it to the tail of the linked list and to dequeue we remove the element from the head of the linked list, we can build a queue to a single-linked list."
      ]
    }
  ]
}