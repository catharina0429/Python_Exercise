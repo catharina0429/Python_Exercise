{
  "nbformat": 4,
  "nbformat_minor": 0,
  "metadata": {
    "colab": {
      "name": "Assignment_1.ipynb",
      "provenance": [],
      "collapsed_sections": []
    },
    "kernelspec": {
      "name": "python3",
      "display_name": "Python 3"
    },
    "language_info": {
      "name": "python"
    }
  },
  "cells": [
    {
      "cell_type": "markdown",
      "metadata": {
        "id": "uy8JZnoQd1EK"
      },
      "source": [
        "\n",
        "## Exercise 1\n",
        "\n",
        "### Write a python function that returns the sum of numbers in a list recursively."
      ]
    },
    {
      "cell_type": "code",
      "metadata": {
        "id": "XX5U3lxDZCAN"
      },
      "source": [
        "def sum_rec_func(a):\n",
        "  if len(a)==1:\n",
        "    return a[0]\n",
        "  else:\n",
        "    return a[0] + sum_rec_func(a[1:])"
      ],
      "execution_count": null,
      "outputs": []
    },
    {
      "cell_type": "code",
      "metadata": {
        "colab": {
          "base_uri": "https://localhost:8080/"
        },
        "id": "pC8Aw-QkeQ6-",
        "outputId": "4bdc0b4d-1602-4bda-a15f-057456ca0366"
      },
      "source": [
        "sum_rec_func([4,2,6,100,102,2])"
      ],
      "execution_count": null,
      "outputs": [
        {
          "output_type": "execute_result",
          "data": {
            "text/plain": [
              "216"
            ]
          },
          "metadata": {},
          "execution_count": 2
        }
      ]
    },
    {
      "cell_type": "markdown",
      "metadata": {
        "id": "dAEFKfead58c"
      },
      "source": [
        "## Exercise 2\n",
        "\n",
        "### Write a Python class circle. The circle class contains a constructor which takes the radius as input. The class circle contains two methods that compute the area and the perimeter of a circle. \n",
        "\n",
        "* Circle Area = $radius^2 \\times \\pi $\n",
        "* Circle Perimeter = $2 \\times radius \\times \\pi$"
      ]
    },
    {
      "cell_type": "code",
      "metadata": {
        "id": "YIxoMKfjbPW5"
      },
      "source": [
        "import math\n",
        "\n",
        "class circle:\n",
        "\n",
        "  def __init__(self, r):\n",
        "    self.radius = r\n",
        "\n",
        "  def area(self):\n",
        "    return self.radius*self.radius*math.pi\n",
        "\n",
        "  def perimeter(self):\n",
        "    return self.radius*2*math.pi"
      ],
      "execution_count": null,
      "outputs": []
    },
    {
      "cell_type": "code",
      "metadata": {
        "colab": {
          "base_uri": "https://localhost:8080/"
        },
        "id": "V080_32alBvJ",
        "outputId": "255daf2c-95da-43ce-c494-c7a38e22dfca"
      },
      "source": [
        "my_circle = circle(4)\n",
        "print(my_circle.area())\n",
        "print(my_circle.perimeter())"
      ],
      "execution_count": null,
      "outputs": [
        {
          "output_type": "stream",
          "name": "stdout",
          "text": [
            "50.26548245743669\n",
            "25.132741228718345\n"
          ]
        }
      ]
    },
    {
      "cell_type": "markdown",
      "metadata": {
        "id": "MH8xKoYOk35-"
      },
      "source": [
        "## Exercise 3\n",
        "\n",
        "### In the following geometric progression,  2, 4, 8, ...., 256, what is the value of r, a, and n?  where a is the starting value,r is the common ratio between adjacent terms, n is the number of terms. (without python, as same as what we did in the lecture)\n",
        "\n",
        "Geometric Progress: \n",
        "$a_{n} = a_{1} r^{n-1}$"
      ]
    },
    {
      "cell_type": "code",
      "metadata": {
        "id": "Bz7NfV7liSev"
      },
      "source": [
        "# a = starting value\n",
        "# r = common ratio\n",
        "# n = number of terms\n",
        "\n",
        "def gem_series(a,r,n):\n",
        "  return (a*(1-r**n)) / (1-r)"
      ],
      "execution_count": null,
      "outputs": []
    },
    {
      "cell_type": "code",
      "metadata": {
        "colab": {
          "base_uri": "https://localhost:8080/"
        },
        "id": "whmwHRZPmqSc",
        "outputId": "f3fdc85b-f10f-4384-db07-b6cf0c38ffb1"
      },
      "source": [
        "gem_series(2,2,8)"
      ],
      "execution_count": null,
      "outputs": [
        {
          "output_type": "execute_result",
          "data": {
            "text/plain": [
              "510.0"
            ]
          },
          "metadata": {},
          "execution_count": 9
        }
      ]
    },
    {
      "cell_type": "code",
      "metadata": {
        "id": "V1NRN2JYjq7X"
      },
      "source": [
        ""
      ],
      "execution_count": null,
      "outputs": []
    },
    {
      "cell_type": "markdown",
      "metadata": {
        "id": "kGvUII_GoQeF"
      },
      "source": [
        "## Exercise 4\n",
        "\n",
        "### Find the sum of the following series, 1+2.5+ 4+ 5.5+ 7+ ....+ 61. (without python, as same as what we did in the lecture)\n",
        "\n",
        "* Arithmetic Sequence: \n",
        "$a_{n} = a_{1} + (n-1)d$\n",
        "* Sum of Arithmetic Sequence:\n",
        "$S_{n} = n (\\frac{a_{1} + a_{n}}{2}) $"
      ]
    },
    {
      "cell_type": "code",
      "metadata": {
        "id": "FEHeiZGinaZi"
      },
      "source": [
        "# a = starting value\n",
        "# d = constant\n",
        "# last = last nummber\n",
        "\n",
        "def aritm_series(a,d,last):\n",
        "  total = a\n",
        "  print('a:', a, '   total_sum: ', total)\n",
        "  while (a < last):\n",
        "    a+=d\n",
        "    total+= a\n",
        "    print('a:', a, '   total_sum: ', total)\n",
        "  return total"
      ],
      "execution_count": null,
      "outputs": []
    },
    {
      "cell_type": "code",
      "metadata": {
        "colab": {
          "base_uri": "https://localhost:8080/"
        },
        "id": "cNOgCMiBqN2F",
        "outputId": "185a44b7-f5e2-482e-cc71-85107b75ebb5"
      },
      "source": [
        "aritm_series(1,1.5,61)"
      ],
      "execution_count": null,
      "outputs": [
        {
          "output_type": "stream",
          "name": "stdout",
          "text": [
            "a: 1    total_sum:  1\n",
            "a: 2.5    total_sum:  3.5\n",
            "a: 4.0    total_sum:  7.5\n",
            "a: 5.5    total_sum:  13.0\n",
            "a: 7.0    total_sum:  20.0\n",
            "a: 8.5    total_sum:  28.5\n",
            "a: 10.0    total_sum:  38.5\n",
            "a: 11.5    total_sum:  50.0\n",
            "a: 13.0    total_sum:  63.0\n",
            "a: 14.5    total_sum:  77.5\n",
            "a: 16.0    total_sum:  93.5\n",
            "a: 17.5    total_sum:  111.0\n",
            "a: 19.0    total_sum:  130.0\n",
            "a: 20.5    total_sum:  150.5\n",
            "a: 22.0    total_sum:  172.5\n",
            "a: 23.5    total_sum:  196.0\n",
            "a: 25.0    total_sum:  221.0\n",
            "a: 26.5    total_sum:  247.5\n",
            "a: 28.0    total_sum:  275.5\n",
            "a: 29.5    total_sum:  305.0\n",
            "a: 31.0    total_sum:  336.0\n",
            "a: 32.5    total_sum:  368.5\n",
            "a: 34.0    total_sum:  402.5\n",
            "a: 35.5    total_sum:  438.0\n",
            "a: 37.0    total_sum:  475.0\n",
            "a: 38.5    total_sum:  513.5\n",
            "a: 40.0    total_sum:  553.5\n",
            "a: 41.5    total_sum:  595.0\n",
            "a: 43.0    total_sum:  638.0\n",
            "a: 44.5    total_sum:  682.5\n",
            "a: 46.0    total_sum:  728.5\n",
            "a: 47.5    total_sum:  776.0\n",
            "a: 49.0    total_sum:  825.0\n",
            "a: 50.5    total_sum:  875.5\n",
            "a: 52.0    total_sum:  927.5\n",
            "a: 53.5    total_sum:  981.0\n",
            "a: 55.0    total_sum:  1036.0\n",
            "a: 56.5    total_sum:  1092.5\n",
            "a: 58.0    total_sum:  1150.5\n",
            "a: 59.5    total_sum:  1210.0\n",
            "a: 61.0    total_sum:  1271.0\n"
          ]
        },
        {
          "output_type": "execute_result",
          "data": {
            "text/plain": [
              "1271.0"
            ]
          },
          "metadata": {},
          "execution_count": 44
        }
      ]
    },
    {
      "cell_type": "code",
      "metadata": {
        "id": "78e4aLSxs_n9"
      },
      "source": [
        ""
      ],
      "execution_count": null,
      "outputs": []
    }
  ]
}