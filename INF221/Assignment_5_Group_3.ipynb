{
  "nbformat": 4,
  "nbformat_minor": 0,
  "metadata": {
    "colab": {
      "name": "Assignment_5_Group_3.ipynb",
      "provenance": []
    },
    "kernelspec": {
      "name": "python3",
      "display_name": "Python 3"
    },
    "language_info": {
      "name": "python"
    }
  },
  "cells": [
    {
      "cell_type": "markdown",
      "metadata": {
        "id": "d_TcD6BtKfWr"
      },
      "source": [
        "#INF221 Assignment 3 Group 3\n",
        "##Jisoo Park, Jorge Eduardo Hermoso Valle, Aria (Ian) McKenney"
      ]
    },
    {
      "cell_type": "markdown",
      "metadata": {
        "id": "_7iw_MZl3A-9"
      },
      "source": [
        "## Exercise 1\n",
        "\n",
        "Show that in any subtree of a max-heap, the root of the subtree contains the largest value occuring anywhere in that subtree.\n",
        "\n",
        "Hint: Argue via contradiction.\n",
        "\n",
        "[Cormen et al, Exercise 6.1-3]"
      ]
    },
    {
      "cell_type": "markdown",
      "metadata": {
        "id": "E8wmnvEus4jd"
      },
      "source": [
        "**Proof**\n",
        "\n",
        "Let $H$ be a max heap and $T_{sub}$ be a subtree of that max heap. Suppose the opposite, that the root of $T_{sub}$, $r$, is not its largest element. Let $c \\in T_{sub}$ such that $c \\gt r$ and $c$ has a parent, $p$. Since $c$ is also a node in $H$ we know $p$ is greater than $c$ because $H$ is a max heap. Then if $p$ is the root node, we see that $c \\leq r$ a contradiction. Similarly, if $p$ is not the root node we know that each subsequent parent is greater than the previous one until we reach the root node $r$. Then we have the inequality $c \\leq p \\leq ... \\leq r$, a contradiction $\\blacksquare$"
      ]
    },
    {
      "cell_type": "markdown",
      "metadata": {
        "id": "LA0Jen2_3HHn"
      },
      "source": [
        "## Exercise 2\n",
        "\n",
        "Give an ***O(n lg k)*** algorithm to merge ***k*** sorted lists into one sorted list, where **n** is the total number of elements in all the input lists.\n",
        "\n",
        "Example: Assume the lists [1, 5, 7], [2, 4], [3, 6, 8, 9]. A three-way merge will then result in [1, 2, 3, 4, 5, 6, 7, 8, 9].\n",
        "\n",
        "Hint: Use a min-heap containing the lists to be sorted. What should you use as sort key for each list in that heap?\n",
        "\n",
        "[Cormen et al, Exercise 6.5-9]"
      ]
    },
    {
      "cell_type": "markdown",
      "metadata": {
        "id": "H3xDaGX9tBWS"
      },
      "source": [
        "```\n",
        "class Node(Value, ListIndex, ElementIndex):\n",
        "    constructor(props):\n",
        "        this.Value = Value\n",
        "        this.ListIndex = ListIndex\n",
        "        this.ElementIndex = ElementIndex\n",
        "```\n",
        "\n",
        "```\n",
        "Heap-Decrease-Key(A, i, key):\n",
        "    if key > A[i]\n",
        "        error\n",
        "    A[i] = key\n",
        "    while i > 1 and A[Parent(i)] > A[i]:\n",
        "        swap A[i] and A[Parent(i)]\n",
        "        i = Parent(i)\n",
        "```\n",
        "\n",
        "```\n",
        "Min-Insert(A, key):\n",
        "    A.heapsize++\n",
        "    A[A.heapsize] = infinity\n",
        "    Heap-Decrease-Key(A, A.heapsize, key)\n",
        "```\n",
        "\n",
        "```\n",
        "MinHeapify(A, i):\n",
        "    left = Left(i)\n",
        "    right = Right(i)\n",
        "    if left <= A.heapsize and A[left] < A[i]:\n",
        "        smallest = left\n",
        "    else:\n",
        "        smallest = i\n",
        "        \n",
        "    if r >= A.heapsize and A[right] < A[smallest]:\n",
        "        smallest = right\n",
        "        \n",
        "    if smallest != i:\n",
        "        exchange A[i] with A[smallest]\n",
        "        MinHeapify(A, smallest)\n",
        "```\n",
        "\n",
        "```\n",
        "MinHeapSort(A, k):\n",
        "    # Build a min heap from the first element in our k lists.\n",
        "    MinHeap = []\n",
        "    for i = 0; i < k; i++: # Iterates k times\n",
        "        Min-Insert(new Node(A[i][0], i, 0)) # O(log k) complexity\n",
        "    \n",
        "    SortedList = []\n",
        "    SortedIndex = 0\n",
        "    while MinHeap[0].Value is not infinity: # Iterates n times\n",
        "        MinNode = MinHeap[0]\n",
        "        i = MinNode.ListIndex\n",
        "        j = MinNode.ElementIndex\n",
        "        SortedList[SortedIndex] = MinNode.Value\n",
        "        SortedIndex++\n",
        "        \n",
        "        # Get the next element from the list that had our minimum\n",
        "        # and insert into our MinHeap\n",
        "        # If the list is exhausted insert infinity instead\n",
        "        j++\n",
        "        if j < A[i].length:\n",
        "            MinHeap[0] = new Node(A[i][j], i, j)\n",
        "            MinHeapify(MinHeap) # Time complexity of O(k)\n",
        "        else:\n",
        "            MinHeap[0] = new Node(infinity, infinity, infinity))\n",
        "            MinHeapify(MinHeap) # Time complexity of O(k)\n",
        "            \n",
        "    return SortedList\n",
        "```\n",
        "    \n",
        "Thus the time complexity of our algorithm `MinHeapSort` is $O(k \\lg{k} + 2n \\lg{k})$ which can be simplified to $O(n \\lg{k})$ as $n \\geq k$"
      ]
    },
    {
      "cell_type": "markdown",
      "metadata": {
        "id": "X3hsIddg3RE_"
      },
      "source": [
        "## Exercise 3\n",
        "\n",
        "a) What value of ***q*** does Partition (from the quicksort algorithm) return when all elements in the array ***A[p…r]*** have the same value? \n",
        "\n",
        "b) Modify Partition so that it returns ***q=[(p+r)/2]*** when all elements in the array ***A[p…r]*** are equal.\n",
        "\n",
        "[Cormen et al, Exercise 7.1-2]\n",
        "\n",
        "### a) Solution:\n",
        "\n",
        "\n",
        "**Partition algorithm**\n",
        "\n",
        "```\n",
        "PARTITION(A, p, r)\n",
        "1 x = A[r]\n",
        "2 i = p - 1\n",
        "3 for j = p to r - 1\n",
        "4   if A[j] <= x\n",
        "5     i = i + 1\n",
        "6     exchange A[i] with A[j]\n",
        "7 exchange A[i + 1] with A[r]\n",
        "8 return i + 1\n",
        "```\n",
        "\n",
        "Since the **if statement** in line 4 is **True** for every iteration when all the entries are equal, then at the end of the loop we have that **i = r - 1**, therefore the value returned will be **q = i + 1 = (r - 1) + 1 = r**.\n",
        "\n",
        "\n",
        "### b) Solution:\n",
        "\n",
        "\n",
        "**Partition algorithm modified**\n",
        "\n",
        "```\n",
        "PARTITION(A, p, r)\n",
        "1  x = A[r]\n",
        "2  i = p - 1\n",
        "3  k = p - 1\n",
        "4  for j = p to r - 1\n",
        "5    if A[j] <= x\n",
        "6      if A[j] == x\n",
        "7        k = k + 1\n",
        "8      i = i + 1\n",
        "9      exchange A[i] with A[j]\n",
        "10 exchange A[i + 1] with A[r]\n",
        "11 if k == r - 1\n",
        "12   q = [(p + r) / 2]\n",
        "13 else\n",
        "14   q = i + 1\n",
        "15 return q\n",
        "```\n"
      ]
    }
  ]
}