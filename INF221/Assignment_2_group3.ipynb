{
 "cells": [
  {
   "cell_type": "markdown",
   "id": "5222a024-6b1f-4f15-978d-2a1eac8b4c05",
   "metadata": {},
   "source": [
    "# Assignment_2_Group 3\n",
    "## Aria, Jorge, Jisoo"
   ]
  },
  {
   "cell_type": "markdown",
   "id": "33b1a528-4e7e-4f5c-a512-e905db71522f",
   "metadata": {},
   "source": [
    "## Exercise 1 Prove that,\n",
    "A. $(a−b)^3=a^3−3a^2b+3ab^2−b^3$\n",
    "\n",
    "**Proof** \n",
    "Using direct proof,\n",
    "$(a-b)^3 \\\\\n",
    " = (a-b)(a-b)(a-b) \\\\\n",
    " = (a^2 - 2ab + b^2)(a-b) \\\\\n",
    " = a^3 - 2a^2b + ab^2 - a^2b + 2ab^2 -b^3 \\\\\n",
    " = a^3 -3a^2b + 3ab^2 -b^3 \\blacksquare $"
   ]
  },
  {
   "cell_type": "markdown",
   "id": "1f72afc7-6cc3-49ec-9f3f-72a3a08d7422",
   "metadata": {},
   "source": [
    "B. For all positive integers n,\n",
    "* The sum of the first n square numbers is equal to $$\\frac{n^2(n+1)^2}{4}$$"
   ]
  },
  {
   "cell_type": "markdown",
   "id": "96fbcfed-442e-4912-937d-dfac1ea90424",
   "metadata": {},
   "source": [
    "$\\sum_{n = 1}^n n = \\frac{n (n+1)}{2}$"
   ]
  },
  {
   "cell_type": "markdown",
   "id": "a0926b54-4fbc-45ab-ab96-7894ef568737",
   "metadata": {},
   "source": [
    "mathematical induction\n",
    "If a proposition is true for the number n = 1\n",
    "and\n",
    "if it can be shown that if the proposition is tru for n, it will also be true for n+1\n",
    "then\n",
    "the proposition is true for all natural numbers:1, 2, 3, ...."
   ]
  },
  {
   "cell_type": "markdown",
   "id": "38ef7fc7-21f0-443e-a4cf-baccbc9f0e11",
   "metadata": {},
   "source": []
  },
  {
   "cell_type": "markdown",
   "id": "692171b0-46e7-4615-bcc1-0b44fe5b2248",
   "metadata": {},
   "source": [
    "* The sum of the first n qubic numbers is equal to \n",
    "$\\sum_{i = 1}^n k^3 \\\\\n",
    " = 1^3 + 2^3 + 3^3 + \\cdots + n^3 \\\\\n",
    " = \n",
    "\\frac{n(n+1)(2n+1)}{6}$\n"
   ]
  },
  {
   "cell_type": "markdown",
   "id": "0aad1475-8202-499e-9b44-ab4e5a84f023",
   "metadata": {},
   "source": [
    "* For all integers n, if $n^3+5$ is odd then n is even\n"
   ]
  },
  {
   "cell_type": "markdown",
   "id": "9dcbf6dc-f9c7-4f4a-910f-433c660c0e7f",
   "metadata": {},
   "source": [
    "$n = even = {n = 2, 4, 6, 8, \\cdots}$\n",
    "\n",
    "$n^3 + 5 = odd = {1, 3, 5, 7, \\cdots}$"
   ]
  },
  {
   "cell_type": "markdown",
   "id": "b40dcce9-00af-48d1-9a70-859fb88029f5",
   "metadata": {},
   "source": [
    "## Exercise 2\n",
    "A linear search or sequential search is a method for finding an element within a list. It sequentially checks each element of the list until a match is found or the whole list has been searched. Write a python function that applies linear search recursively:"
   ]
  },
  {
   "cell_type": "code",
   "execution_count": 29,
   "id": "41da1e01-c4a0-462c-bca3-e4130eaf6995",
   "metadata": {},
   "outputs": [],
   "source": [
    "def linear_search(yourlist, x, index):\n",
    "    \n",
    "    if index >= len(yourlist):\n",
    "        return -1\n",
    "    \n",
    "    middle_point = round((yourlist[0] + yourlist[-1])/2)\n",
    "    \n",
    "    if yourlist[middle_point] == x:\n",
    "        return middle_point\n",
    "    \n",
    "    if yourlist[middle_point] != x:\n",
    "        if yourlist[index] == x:\n",
    "            return linear_search(yourlist, x, index = middle_point - 1)\n",
    "        else:\n",
    "            return -1"
   ]
  },
  {
   "cell_type": "code",
   "execution_count": 26,
   "id": "e78bb937-8854-4cab-9185-6e05710face1",
   "metadata": {},
   "outputs": [
    {
     "data": {
      "text/plain": [
       "3"
      ]
     },
     "execution_count": 26,
     "metadata": {},
     "output_type": "execute_result"
    }
   ],
   "source": [
    "a = [5, 3, 2, 4, 1]\n",
    "linear_search(a, 4, index= 0)"
   ]
  },
  {
   "cell_type": "code",
   "execution_count": 30,
   "id": "b547dbdd-25a5-47d6-926c-2ada9682d31c",
   "metadata": {},
   "outputs": [
    {
     "ename": "IndexError",
     "evalue": "list index out of range",
     "output_type": "error",
     "traceback": [
      "\u001b[1;31m---------------------------------------------------------------------------\u001b[0m",
      "\u001b[1;31mIndexError\u001b[0m                                Traceback (most recent call last)",
      "\u001b[1;32m~\\AppData\\Local\\Temp/ipykernel_15244/3470061029.py\u001b[0m in \u001b[0;36m<module>\u001b[1;34m\u001b[0m\n\u001b[0;32m      1\u001b[0m \u001b[0ma\u001b[0m \u001b[1;33m=\u001b[0m \u001b[1;33m[\u001b[0m\u001b[1;36m49\u001b[0m\u001b[1;33m,\u001b[0m \u001b[1;36m125\u001b[0m\u001b[1;33m,\u001b[0m \u001b[1;36m200\u001b[0m\u001b[1;33m,\u001b[0m \u001b[1;36m696\u001b[0m\u001b[1;33m,\u001b[0m \u001b[1;36m848\u001b[0m\u001b[1;33m,\u001b[0m \u001b[1;36m1099\u001b[0m\u001b[1;33m,\u001b[0m \u001b[1;36m1299\u001b[0m\u001b[1;33m,\u001b[0m \u001b[1;36m1600\u001b[0m\u001b[1;33m]\u001b[0m\u001b[1;33m\u001b[0m\u001b[1;33m\u001b[0m\u001b[0m\n\u001b[1;32m----> 2\u001b[1;33m \u001b[0mlinear_search\u001b[0m\u001b[1;33m(\u001b[0m\u001b[0ma\u001b[0m\u001b[1;33m,\u001b[0m \u001b[1;36m1099\u001b[0m\u001b[1;33m,\u001b[0m \u001b[1;36m0\u001b[0m\u001b[1;33m)\u001b[0m\u001b[1;33m\u001b[0m\u001b[1;33m\u001b[0m\u001b[0m\n\u001b[0m",
      "\u001b[1;32m~\\AppData\\Local\\Temp/ipykernel_15244/2951633028.py\u001b[0m in \u001b[0;36mlinear_search\u001b[1;34m(yourlist, x, index)\u001b[0m\n\u001b[0;32m      6\u001b[0m     \u001b[0mmiddle_point\u001b[0m \u001b[1;33m=\u001b[0m \u001b[0mround\u001b[0m\u001b[1;33m(\u001b[0m\u001b[1;33m(\u001b[0m\u001b[0myourlist\u001b[0m\u001b[1;33m[\u001b[0m\u001b[1;36m0\u001b[0m\u001b[1;33m]\u001b[0m \u001b[1;33m+\u001b[0m \u001b[0myourlist\u001b[0m\u001b[1;33m[\u001b[0m\u001b[1;33m-\u001b[0m\u001b[1;36m1\u001b[0m\u001b[1;33m]\u001b[0m\u001b[1;33m)\u001b[0m\u001b[1;33m/\u001b[0m\u001b[1;36m2\u001b[0m\u001b[1;33m)\u001b[0m\u001b[1;33m\u001b[0m\u001b[1;33m\u001b[0m\u001b[0m\n\u001b[0;32m      7\u001b[0m \u001b[1;33m\u001b[0m\u001b[0m\n\u001b[1;32m----> 8\u001b[1;33m     \u001b[1;32mif\u001b[0m \u001b[0myourlist\u001b[0m\u001b[1;33m[\u001b[0m\u001b[0mmiddle_point\u001b[0m\u001b[1;33m]\u001b[0m \u001b[1;33m==\u001b[0m \u001b[0mx\u001b[0m\u001b[1;33m:\u001b[0m\u001b[1;33m\u001b[0m\u001b[1;33m\u001b[0m\u001b[0m\n\u001b[0m\u001b[0;32m      9\u001b[0m         \u001b[1;32mreturn\u001b[0m \u001b[0mmiddle_point\u001b[0m\u001b[1;33m\u001b[0m\u001b[1;33m\u001b[0m\u001b[0m\n\u001b[0;32m     10\u001b[0m \u001b[1;33m\u001b[0m\u001b[0m\n",
      "\u001b[1;31mIndexError\u001b[0m: list index out of range"
     ]
    }
   ],
   "source": [
    "a = [49, 125, 200, 696, 848, 1099, 1299, 1600]\n",
    "linear_search(a, 1099, 0)"
   ]
  },
  {
   "cell_type": "code",
   "execution_count": null,
   "id": "27011269-17d2-434e-b442-3ae8b6d22629",
   "metadata": {},
   "outputs": [],
   "source": []
  }
 ],
 "metadata": {
  "kernelspec": {
   "display_name": "Python 3 (ipykernel)",
   "language": "python",
   "name": "python3"
  },
  "language_info": {
   "codemirror_mode": {
    "name": "ipython",
    "version": 3
   },
   "file_extension": ".py",
   "mimetype": "text/x-python",
   "name": "python",
   "nbconvert_exporter": "python",
   "pygments_lexer": "ipython3",
   "version": "3.9.6"
  }
 },
 "nbformat": 4,
 "nbformat_minor": 5
}
