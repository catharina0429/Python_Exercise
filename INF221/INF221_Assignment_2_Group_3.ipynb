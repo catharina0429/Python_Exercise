{
  "nbformat": 4,
  "nbformat_minor": 0,
  "metadata": {
    "colab": {
      "name": "Assignment_2_Group 3.ipynb",
      "provenance": [],
      "collapsed_sections": []
    },
    "kernelspec": {
      "name": "python3",
      "display_name": "Python 3"
    },
    "language_info": {
      "name": "python"
    }
  },
  "cells": [
    {
      "cell_type": "markdown",
      "metadata": {
        "id": "jXbDbAMU7aSh"
      },
      "source": [
        "# INF221 Assignment 2 Group 3\n",
        "## Jisoo Park, Jorge Eduardo Hermoso Valle, Aria (Ian) McKenney"
      ]
    },
    {
      "cell_type": "markdown",
      "metadata": {
        "id": "XJgpVpKv56W9"
      },
      "source": [
        "## Exercise 1 Prove that,\n",
        "### A. $(a−b)^3=a^3−3a^2b+3ab^2−b^3$\n",
        "\n",
        "We solve:\n",
        "\n",
        "$ (a-b)^3 = (a-b)(a-b)(a-b) \\\\\n",
        "~~~~~~~~~~~~~ = (a-b)(a^2 - ab - ba + b^2) \\:\\:\\: (D) \\\\\n",
        "~~~~~~~~~~~~~ = (a-b)(a^2 - 2ab + b^2) \\\\\n",
        "~~~~~~~~~~~~~ = a^3 - 2a^2b + ab^2 - ba^2 + 2ab^2 - b^3 \\:\\:\\: (D) \\\\\n",
        "~~~~~~~~~~~~~ = a^3 - 3a^2b + 3ab^2 - b^3 \\: \\blacksquare$"
      ]
    },
    {
      "cell_type": "markdown",
      "metadata": {
        "id": "CbaG4YXf89gY"
      },
      "source": [
        "### B. For all positive integers n,\n",
        "\n",
        "#### B-A)The sum of the first n square numbers is equal to $$\\frac{n^2(n+1)^2}{4}$$\n",
        "\n",
        "**Lemma:**\n",
        "\n",
        "$$\n",
        "\\sum_{n=1}^{n}n = \\frac{n(n + 1)}{2}\n",
        "$$\n",
        "\n",
        "**Proof:**\n",
        "\n",
        "We proceed by induction. We see that for $n = 1$\n",
        "\n",
        "$$\n",
        "\\sum_{n=1}^{n}n = \\sum_{n=1}^{1} = \\frac{1(1 + 1)}{2} = 1\n",
        "$$\n",
        "\n",
        "We assume that $\\sum_{n=1}^{n}n = \\frac{n(n + 1)}{2}$ holds true for all n. Then for $n+1$\n",
        "\n",
        "$$\n",
        "\\sum_{n=1}^{n+1}n + 1 \\\\\n",
        "= \\sum_{n=1}^{n}n + n + 1 \\\\\n",
        "= \\frac{n(n + 1)}{2} + n + 1 \\\\\n",
        "= \\frac{n(n + 1)}{2} + \\frac{2(n + 1)}{2} \\\\\n",
        "= \\frac{(n + 1)(n + 2)}{2} \\blacksquare\n",
        "$$\n"
      ]
    },
    {
      "cell_type": "markdown",
      "metadata": {
        "id": "9k5DtoCN6Y2Q"
      },
      "source": [
        "\n",
        "**Proof:**\n",
        "\n",
        "We proceed by induction. We see that for $n = 1$\n",
        "\n",
        "$$\n",
        "\\sum_{n=1}^{1}1^2 = \\frac{1^2(1 + 1)^2}{4} = \\frac{4}{4} = 1\n",
        "$$\n",
        "\n",
        "We assume that $\\sum_{n=1}^{n}{n^3} = \\frac{n^2(n+1)^2}{4}$ holds true for all $n$. Then for $n+1$\n",
        "\n",
        "$$\n",
        "\\sum_{n=1}^{n+1}{(n+1)^3} = \\sum_{n=1}^{n}n^3 + (n + 1)^3 \\\\\n",
        "= \\frac{n^2(n+1)^2}{4} + (n + 1)^3 \\\\\n",
        "= \\frac{n^2(n+1)^2}{4} + (n + 1)(n + 1)^2 \\\\\n",
        "= \\frac{n^2(n+1)^2 + 4(n + 1)(n + 1)^2}{4} \\\\\n",
        "= \\frac{(n^2 + 4n + 4)(n + 1)^2}{4} \\\\\n",
        "= \\frac{(n + 1)^2(n + 2)^2}{4}\n",
        "$$"
      ]
    },
    {
      "cell_type": "markdown",
      "metadata": {
        "id": "hmgzQ10Z6lt1"
      },
      "source": [
        "#### B-B) The sum of the first n qubic numbers is equal to $$ \\sum_{n=1}^{n}{n^3} = \\frac{n(n+1)(2n+1)}{6} $$\n",
        "\n",
        "**Proof:**\n",
        "\n",
        "We proceed by induction. We see that for $n = 1$ \n",
        "\n",
        "$$\n",
        "\\sum_{n=1}^{1}1^2 = \\frac{1(2)(3)}{6} = 1\n",
        "$$\n",
        "\n",
        "Let's assume that $\\sum_{n=1}^{n}n^2 = \\frac{n(n+1)(2n+1)}{6}$ holds true for all $n$. Then for $n + 1$\n",
        "\n",
        "$$\n",
        "\\sum_{n=1}^{n + 1}(n + 1)^2 = \\sum_{n=1}^{n}n^2 + (n + 1)^2 \\\\\n",
        "= \\frac{n(n+1)(2n+1)}{6} + (n + 1)^2 \\\\\n",
        "= \\frac{n(n+1)(2n+1) + 6(n + 1)^2}{6} \\\\\n",
        "= \\frac{(n + 1)(6(n + 1) + n(2n + 1))}{6} \\\\\n",
        "= \\frac{(n + 1)(6n + 6 + 2n^2 + n)}{6} \\\\\n",
        "= \\frac{(n + 1)(2n^2 + 7n + 6)}{6} \\\\\n",
        "= \\frac{(n + 1)(n + 2)(2n + 3)}{6} \\\\\n",
        "= \\frac{(n + 1)((n + 1) + 1)(2(n + 1) + 1)}{6} \\blacksquare\n",
        "$$"
      ]
    },
    {
      "cell_type": "markdown",
      "metadata": {
        "id": "Zu3USwaw8YZg"
      },
      "source": [
        "### C. For all integers n, if $n^3+5$ is odd then n is even\n",
        "\n"
      ]
    },
    {
      "cell_type": "markdown",
      "metadata": {
        "id": "oypHSy8t8xWY"
      },
      "source": [
        "**Lemma:**\n",
        "\n",
        "An even number plus an odd number is odd.\n",
        "\n",
        "**Proof:**\n",
        "\n",
        "Let $n,m \\in \\mathbb{Z}$ where n is even and m is odd. Then\n",
        "$$\n",
        "n + m = 2k + (2p + 1) \\\\\n",
        "= 2k + 2p + 1 \\\\\n",
        "= 2(k + p) + 1 \\\\\n",
        "$$\n",
        "\n",
        "we see that by definition $2(k + p) + 1$ is odd."
      ]
    },
    {
      "cell_type": "markdown",
      "metadata": {
        "id": "wPRN3o0J8yEW"
      },
      "source": [
        "**Proof:**\n",
        "\n",
        "Let $n^3 + 5$ be odd then\n",
        "\n",
        "$$\n",
        "n^3 + 5 = 2k + 1 \\\\\n",
        "n^3 = 2k - 4 \\\\\n",
        "n^3 = 2(k - 2)\n",
        "$$\n",
        "\n",
        "hence $n^3$ is even. Therefore from our lemma, $n^3 + 5$ is odd. $\\blacksquare$"
      ]
    },
    {
      "cell_type": "markdown",
      "metadata": {
        "id": "W_YMNGfA00iO"
      },
      "source": [
        "## Exercise 2\n",
        "\n",
        "A linear search or sequential search is a method for finding an element within a list. It sequentially checks each element of the list until a match is found or the whole list has been searched. Write a python function that applies linear search recursively:\n",
        "\n",
        "Input: search list, index: the index your algorithm starts from (default is 0), value: the value you search \n",
        "\n",
        "Output:  The index of the element in the list (if found), otherwise -1"
      ]
    },
    {
      "cell_type": "code",
      "metadata": {
        "id": "v50QpvPHfv9f"
      },
      "source": [
        "def linear_search(my_list , target_value, index = 0):\n",
        "\n",
        "  if index >= len(my_list):\n",
        "    return -1\n",
        "\n",
        "  if index < 0:\n",
        "    return -1\n",
        "\n",
        "  if my_list[index] == target_value:\n",
        "    return index\n",
        "\n",
        "  return linear_search(my_list, target_value,  index+1)"
      ],
      "execution_count": null,
      "outputs": []
    },
    {
      "cell_type": "code",
      "metadata": {
        "colab": {
          "base_uri": "https://localhost:8080/"
        },
        "id": "lAF6HmbcpEYj",
        "outputId": "c4a09cd1-a489-40a1-d58a-2d3923e5eb3e"
      },
      "source": [
        "# Finding a number without specifying any starting index\n",
        "\n",
        "vec = [49,125,200,696,848,1099,1299,1600]\n",
        "x = 848\n",
        "\n",
        "linear_search(my_list = vec, target_value = x)"
      ],
      "execution_count": null,
      "outputs": [
        {
          "output_type": "execute_result",
          "data": {
            "text/plain": [
              "4"
            ]
          },
          "metadata": {},
          "execution_count": 2
        }
      ]
    },
    {
      "cell_type": "code",
      "metadata": {
        "colab": {
          "base_uri": "https://localhost:8080/"
        },
        "id": "O7VWtdA8zD_B",
        "outputId": "1cfb4981-30d1-4459-d0a1-37e08e87f4dd"
      },
      "source": [
        "# Finding a number specifying a starting index\n",
        "\n",
        "vec = [49,848,1099,1299,1600]\n",
        "x = 848\n",
        "start = 5\n",
        "\n",
        "linear_search(my_list = vec, target_value = x, index = start)"
      ],
      "execution_count": null,
      "outputs": [
        {
          "output_type": "execute_result",
          "data": {
            "text/plain": [
              "-1"
            ]
          },
          "metadata": {},
          "execution_count": 3
        }
      ]
    },
    {
      "cell_type": "code",
      "metadata": {
        "colab": {
          "base_uri": "https://localhost:8080/"
        },
        "id": "Wo-l0qguz_II",
        "outputId": "abc3b855-2944-4788-d8e8-a3af77903258"
      },
      "source": [
        "# Finding a number that is not in the list\n",
        "\n",
        "vec = [49,848,1099,1299,1600]\n",
        "x = 797\n",
        "\n",
        "linear_search(my_list = vec, target_value = x)"
      ],
      "execution_count": null,
      "outputs": [
        {
          "output_type": "execute_result",
          "data": {
            "text/plain": [
              "-1"
            ]
          },
          "metadata": {},
          "execution_count": 4
        }
      ]
    },
    {
      "cell_type": "code",
      "metadata": {
        "colab": {
          "base_uri": "https://localhost:8080/"
        },
        "id": "2YOTTnBt0FUG",
        "outputId": "da154d95-eb77-45fa-89ed-9cd7e264f409"
      },
      "source": [
        "# Finding a number with an index greater that the size of the list\n",
        "\n",
        "vec = [49,848,1099,1299,1600]\n",
        "x = 848\n",
        "start = 10\n",
        "\n",
        "linear_search(my_list = vec, target_value = x, index = start)"
      ],
      "execution_count": null,
      "outputs": [
        {
          "output_type": "execute_result",
          "data": {
            "text/plain": [
              "-1"
            ]
          },
          "metadata": {},
          "execution_count": 5
        }
      ]
    }
  ]
}