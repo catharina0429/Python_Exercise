{
  "nbformat": 4,
  "nbformat_minor": 0,
  "metadata": {
    "colab": {
      "name": "INF221_Assignment_3_Group3.ipynb",
      "provenance": [],
      "collapsed_sections": []
    },
    "kernelspec": {
      "name": "python3",
      "display_name": "Python 3"
    },
    "language_info": {
      "name": "python"
    }
  },
  "cells": [
    {
      "cell_type": "markdown",
      "metadata": {
        "id": "lR2_3BxN7pHt"
      },
      "source": [
        "#INF221 Assignment 3 Group 3\n",
        "##Jisoo Park, Jorge Eduardo Hermoso Valle, Aria (Ian) McKenney"
      ]
    },
    {
      "cell_type": "markdown",
      "metadata": {
        "id": "9CXlovKp7WuV"
      },
      "source": [
        "## Exercise 1\n",
        "Express the function $\\frac{n^3}{1000}−100n^2−100n+3 $ in terms of Θ-notation. Find suitable constants c1,c2,n0.\n",
        "\n",
        "[Cormen et al, Exercise 2.2-1]"
      ]
    },
    {
      "cell_type": "markdown",
      "metadata": {
        "id": "hrIUhLY1jYDc"
      },
      "source": [
        "Let $g(n) = n^3$ Then\n",
        "$$\n",
        "c_1n^3 \\leq \\frac{n^3}{1000} - 100n^2 - 100n + 3 \\leq c_2n^3\n",
        "$$\n",
        "\n",
        "$$\n",
        "c_1 \\leq \\frac{1}{1000} - \\frac{100}{n} - \\frac{100}{n^2} + \\frac{3}{n^3} \\leq c_2\n",
        "$$"
      ]
    },
    {
      "cell_type": "markdown",
      "metadata": {
        "id": "EfNMN-EZjcNI"
      },
      "source": [
        "Consider the left hand inequality\n",
        "\n",
        "$$\n",
        "0 \\lt c_1 \\leq \\frac{1}{1000} - \\frac{100}{n} - \\frac{100}{n^2} + \\frac{3}{n^3}\n",
        "$$"
      ]
    },
    {
      "cell_type": "markdown",
      "metadata": {
        "id": "BmGmURNmje1_"
      },
      "source": [
        "If we let $n_0 \\geq 1\\ 000\\ 000$ we see that the inequality is equal to:\n",
        "$$\n",
        "0 \\lt c_1 \\leq \\frac{1}{1000} - \\frac{100}{1\\ 000\\ 000} - \\frac{100}{1\\ 000\\ 000^2} + \\frac{3}{1\\ 000\\ 000^3}\n",
        "$$\n",
        "\n",
        "$$\n",
        "0 \\lt c_1 \\leq \\frac{899\\ 999\\ 900\\ 000\\ 003}{1\\ 000\\ 000\\ 000\\ 000\\ 000\\ 000}\n",
        "$$\n",
        "\n",
        "$$\n",
        "0 \\lt c_1 \\leq 0.000899999900000003\n",
        "$$\n",
        "\n",
        "so if we let $c_1 = \\frac{7}{10\\ 000}$ (i.e. 0.0007) we can see that we have a $c_1$ that fulfills our inequality"
      ]
    },
    {
      "cell_type": "markdown",
      "metadata": {
        "id": "VT6mcCOvjhsu"
      },
      "source": [
        "Consider the right hand inequality\n",
        "\n",
        "$$\n",
        "\\frac{1}{1000} - \\frac{100}{n} - \\frac{100}{n^2} + \\frac{3}{n^3} \\leq c_2\n",
        "$$"
      ]
    },
    {
      "cell_type": "markdown",
      "metadata": {
        "id": "PP1OCiNsjjiZ"
      },
      "source": [
        "If we use $c_2 = \\frac{9}{10000}$ we can see that our inequality is satisfied. Thus $\\frac{n^3}{1000} - 100n^2 - 100n + 3 = \\Theta(n^3)$ when $c_1 = \\frac{7}{10000}$, $c_2 = \\frac{9}{10000}$, $n_0 = 1\\ 000\\ 000$"
      ]
    },
    {
      "cell_type": "markdown",
      "metadata": {
        "id": "M9aEcR018AOX"
      },
      "source": [
        "# Exercise 2\n",
        "\n",
        "Use mathematical induction to show that when $n$ is an exact power of 2, the solution of the recurrence\n",
        "\n",
        "$T(n) = $\n",
        "\\begin{cases} \n",
        "1, & \\mbox{if }n = 1 \\\\\n",
        "8T(n/2) + n^2, & \\mbox{if } n=2k \\mbox{ ,for k > 1}\n",
        "\\end{cases}\n",
        "\n",
        "is  $T(n)=n^2(2n−1)$."
      ]
    },
    {
      "cell_type": "markdown",
      "metadata": {
        "id": "Nqdd-SZ24xZY"
      },
      "source": [
        "We prove by induction\n",
        "**Proof:**\n",
        "\n",
        "Let $n = 1$. Then\n",
        "$$\n",
        "T(1) = 1^2(2(1) - 1) = 1\n",
        "$$\n",
        "\n",
        "Assume that $T(k) = k^2(2k - 1)$ holds true for all $k \\lt n$. Then\n",
        "$$\n",
        "T(n) = 8T(\\frac{n}{2}) + n^2 \\\\\n",
        "= 8(\\frac{n^2}{4}(n - 1)) + n^2 \\\\\n",
        "= 2n^2(n-1) + n^2 \\\\\n",
        "= n^2(2n - 2) + n^2 \\\\\n",
        "= n^2(2n - 2 + 1) \\\\\n",
        "= n^2(2n - 1) \\blacksquare\n",
        "$$"
      ]
    },
    {
      "cell_type": "markdown",
      "metadata": {
        "id": "0am10VtS8PU9"
      },
      "source": [
        "##Exercise 3\n",
        "CLRS 4.5-1: Use the master method to give tight asymptotic bounds for the following recurrences:\n",
        "\n",
        "a) $T(n)=2T(n/4)+1$\n",
        "\n",
        "b) $T(n)=2T(n/4)+ \\sqrt n$\n",
        "\n",
        "c) $ T(n)=2T(n/4)+n $\n",
        "\n",
        "d) $ T(n)=2T(n/4)+n^2$"
      ]
    },
    {
      "cell_type": "markdown",
      "metadata": {
        "id": "0FL5YCk-p-hG"
      },
      "source": [
        "According to the Master Theorem on text book page 94,\n",
        "recurrence $T(n) = aT(n/b) + f(n)$ has the following asymptotic bounds:\n",
        "\n",
        "1. $f(n) < n^{\\log_b{a}} => T(n) = \\theta(n^{\\log_b{a}})$\n",
        "2. $f(n) > n^{\\log_b{a}} => T(n) = \\theta(f(n))$\n",
        "3. $f(n) = n^{\\log_b{a}} => T(n) = \\theta(f(n)\\times \\log{n})$"
      ]
    },
    {
      "cell_type": "markdown",
      "metadata": {
        "id": "ZnPI3v_gyofX"
      },
      "source": [
        "a) $T(n) = 2T(n/4) + 1$ \\\\\n",
        "$$a = 2, b = 4, f(n) = 1 \\\\\n",
        "f(n) = 1 < n^{\\log_4{2}} = \\sqrt{n} $$ \\\\\n",
        "therefore, $T(n) = \\theta(n^{\\log_b{a}}) =  \\theta(\\sqrt{n})$ "
      ]
    },
    {
      "cell_type": "markdown",
      "metadata": {
        "id": "FwCMBybI09We"
      },
      "source": [
        "b) $T(n) = 2T(n/4) + \\sqrt{n}$ \\\\\n",
        "\n",
        "$$a = 2, b = 4, f(n) = \\sqrt{n} \\\\ \n",
        "f(n) = \\sqrt{n} =  n^{\\log_4{2}} = \\sqrt{n} $$\n",
        "therefore, $T(n) = \\theta(f(n) \\times \\log{n}) = \\theta(\\sqrt{n} \\times \\log{n})$"
      ]
    },
    {
      "cell_type": "markdown",
      "metadata": {
        "id": "bTneHMSe2bHL"
      },
      "source": [
        "c) $T(n) = 2T(n/4) + n$ \\\\\n",
        "\n",
        "$$a = 2, b = 4, f(n) = n \\\\ \n",
        "f(n) = n > \\sqrt{n} =  n^{\\log_4{2}} $$\n",
        "therefore, $T(n) = \\theta(f(n)) = n$"
      ]
    },
    {
      "cell_type": "markdown",
      "metadata": {
        "id": "A-Hjh37Y3FUO"
      },
      "source": [
        "d) $T(n) = 2T(n/4) + n^2$ \\\\\n",
        "\n",
        "$$a = 2, b = 4, f(n) = n^2 \\\\ \n",
        "f(n) = n^2 > \\sqrt{n} =  n^{\\log_4{2}} $$\n",
        "therefore, $T(n) = \\theta(f(n)) = n^2$"
      ]
    },
    {
      "cell_type": "markdown",
      "metadata": {
        "id": "GuHggLTm8d-F"
      },
      "source": [
        "## Exercise 4\n",
        "Write an iterative algorithm to return the minimum value in the list.\n",
        "\n",
        "Using a loop invariant, prove that your solution is correct. Make sure that your loop invariant fulfills the three necessary properties."
      ]
    },
    {
      "cell_type": "code",
      "metadata": {
        "id": "TM0k0gHw0jMi"
      },
      "source": [
        "def find_min(A):\n",
        "\n",
        "  if len(A) == 0:\n",
        "    return None\n",
        "\n",
        "  min = A[0]\n",
        "\n",
        "  for i in range(1,len(A)):\n",
        "    if(A[i] < min):\n",
        "      min = A[i]\n",
        "  \n",
        "  return min"
      ],
      "execution_count": null,
      "outputs": []
    },
    {
      "cell_type": "markdown",
      "metadata": {
        "id": "1BM-DFQnyTlv"
      },
      "source": [
        "\n",
        "### **Loop invariant:**\n",
        "**min** contains the minimum value in **A [ 0 . . i ]**\n",
        "\n",
        "\n",
        "#### **1.   Initialization:**\n",
        "**A [ 0 . . 0 ] == A [ 0 ]** and **min** is equal **A [ 0 ]**, which is the minimum value element in the one-element array **A [ 0 . . 0 ]** so the invariant holds.\n",
        "\n",
        "\n",
        "#### **2.   Maintenance**\n",
        "Assume invariant holds up to **i**, i.e., **min <= A [ 0 . . i - 1 ]**. Case distinction:\n",
        "\n",
        "*Case 1:*\n",
        "\n",
        "**A [ i ]  < min** is false -> then-part not executed, **min** unchanged. When we begin next round of loop, **min** contains smallest number in **A [ 0 . . i ]** and in invariant we have **A [ 0 . . ( i + 1 ) - 1 ]  == A [ 0 . . i ]**.\n",
        "\n",
        "*Case 2:*\n",
        "\n",
        "**A [ i ]  < min** is true -> then-part is executed, **min** is updated with **A [ i ]**. Since **min** previously contained the smallest value in **A [ 0 . . i - 1 ]**, and we have replaced it with a smaller value, **min** now contains the smallest value in **A [ 0 . . i ]** and updating **i** to **i+1** as in the false-case maintains the invariant.\n",
        "\n",
        "\n",
        "#### **3.   Termination**\n",
        "The loop terminates when **i == len ( A )**. Then, the invariant states that **min** contains the smallest value in **A [ 0 . . ( len ( A ) - 1 ) ]**, i.e., the smallest value in **A**."
      ]
    },
    {
      "cell_type": "code",
      "metadata": {
        "id": "KWl1gPnUFnzE"
      },
      "source": [
        ""
      ],
      "execution_count": null,
      "outputs": []
    }
  ]
}