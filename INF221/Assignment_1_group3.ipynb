{
 "cells": [
  {
   "cell_type": "markdown",
   "id": "505415ba-0d44-487e-8761-e2629c4ac7d6",
   "metadata": {},
   "source": [
    "# INF221 Assignmnet 1\n",
    "## Due Date: 2021-09-19\n",
    "## Group3: Aria, Jorge, Jisoo"
   ]
  },
  {
   "cell_type": "markdown",
   "id": "8edffaa2-ab50-4364-aea0-8e1c7cf25de3",
   "metadata": {},
   "source": [
    "## Exercise 1 (1 pt)\n",
    "Write a python function that returns the sum of numbers in a list recursively."
   ]
  },
  {
   "cell_type": "code",
   "execution_count": 1,
   "id": "87b04169-e647-4ec5-a991-f52327f57263",
   "metadata": {},
   "outputs": [],
   "source": [
    "def list_sum(yourlist):\n",
    "    try:\n",
    "        if len(yourlist) == 1:\n",
    "            return yourlist[0]\n",
    "        else:\n",
    "            return yourlist[0] + list_sum(yourlist[1:])\n",
    "        \n",
    "    # in case of the empty list\n",
    "    except:\n",
    "        print(\"Your list is empty! Check it again\")"
   ]
  },
  {
   "cell_type": "code",
   "execution_count": 2,
   "id": "fe67b180-4957-431d-b4e3-8fc661dec5c7",
   "metadata": {},
   "outputs": [
    {
     "name": "stdout",
     "output_type": "stream",
     "text": [
      "10\n",
      "Your list is empty! Check it again\n",
      "None\n"
     ]
    }
   ],
   "source": [
    "print(list_sum([1,2,3,4]))\n",
    "print(list_sum([]))"
   ]
  },
  {
   "cell_type": "markdown",
   "id": "4db6317b-56c5-4065-9788-352df1d6d0fb",
   "metadata": {},
   "source": [
    "## Exercise 2 (1 pt)\n",
    "Write a Python class circle. The circle class contains a constructor which takes the radius as input. The class circle contains two methods that compute the area and the perimeter of a circle. "
   ]
  },
  {
   "cell_type": "code",
   "execution_count": 3,
   "id": "d9f4eccd-c9ac-4063-aa62-9e8fa334f48f",
   "metadata": {},
   "outputs": [],
   "source": [
    "import math\n",
    "\n",
    "class Circle:\n",
    "#     import math # where it should be located? within class? outside of class?\n",
    "\n",
    "    def __init__ (self, radius:float):\n",
    "        # contain constructor: radius\n",
    "        self.radius = radius\n",
    "    \n",
    "    # compute area of a circle = pi * radius * radius\n",
    "    def circle_area(self):\n",
    "        return self.radius * self.radius * math.pi\n",
    "    \n",
    "    # compute perimeter of a circle = 2* pi * radius\n",
    "    def circle_perimeter(self):\n",
    "        return 2 * self.radius * math.pi"
   ]
  },
  {
   "cell_type": "code",
   "execution_count": 4,
   "id": "e7615ba2-d76e-40cd-a890-d5513ab741b6",
   "metadata": {},
   "outputs": [
    {
     "name": "stdout",
     "output_type": "stream",
     "text": [
      "28.274333882308138\n",
      "18.84955592153876\n"
     ]
    }
   ],
   "source": [
    "c = Circle(3)\n",
    "print(c.circle_area())\n",
    "print(c.circle_perimeter())"
   ]
  },
  {
   "cell_type": "markdown",
   "id": "90c42783-f626-45a1-adeb-dc5074ad413d",
   "metadata": {},
   "source": [
    "## Exercise 3 (1 pt)\n",
    "In the following geometric progression,  2, 4, 8, ...., 256, what is the value of r, a, and n? \n",
    "where a is the starting value, r is the common ratio between adjacent terms, n is the number of terms.\n",
    "\n",
    "* Geometric sequence: $a_{n} = a  r^{n-1}$\n",
    "* Sum of geometric sequence: $S_{n} = \\frac{a(1-r^{n})}{1-r}$"
   ]
  },
  {
   "cell_type": "code",
   "execution_count": 5,
   "id": "a1313aa3-b22c-439a-9169-b0a90bf6d769",
   "metadata": {},
   "outputs": [],
   "source": [
    "def geometric_progress(a, r, n):\n",
    "    geo_list = [a]\n",
    "    for i in range(0, n-1):\n",
    "        a = a * r\n",
    "        geo_list.append(a)\n",
    "    return geo_list"
   ]
  },
  {
   "cell_type": "code",
   "execution_count": 6,
   "id": "70772a44-3fe8-4013-b2fd-7c98528e6a13",
   "metadata": {},
   "outputs": [
    {
     "data": {
      "text/plain": [
       "[2, 4, 8, 16, 32, 64, 128, 256]"
      ]
     },
     "execution_count": 6,
     "metadata": {},
     "output_type": "execute_result"
    }
   ],
   "source": [
    "geometric_progress(2, 2, 8)"
   ]
  },
  {
   "cell_type": "code",
   "execution_count": 7,
   "id": "3d539f11-d983-482f-89b5-db52fd61c690",
   "metadata": {},
   "outputs": [
    {
     "data": {
      "text/plain": [
       "[1, 0.5, 0.25, 0.125]"
      ]
     },
     "execution_count": 7,
     "metadata": {},
     "output_type": "execute_result"
    }
   ],
   "source": [
    "geometric_progress(1, 1/2, 4)"
   ]
  },
  {
   "cell_type": "code",
   "execution_count": 8,
   "id": "7b3cc0fd-568f-4277-a314-64eeba579941",
   "metadata": {},
   "outputs": [
    {
     "data": {
      "text/plain": [
       "[3, 9, 27, 81]"
      ]
     },
     "execution_count": 8,
     "metadata": {},
     "output_type": "execute_result"
    }
   ],
   "source": [
    "geometric_progress(3, 3, 4)"
   ]
  },
  {
   "cell_type": "code",
   "execution_count": 9,
   "id": "111bedf5-158c-45e5-9434-bbdc976441c9",
   "metadata": {},
   "outputs": [],
   "source": [
    "def Geometric_list(yourlist):\n",
    "    try:\n",
    "        a1 = yourlist[0]\n",
    "        a2 = yourlist[1]\n",
    "        r = a2/a1\n",
    "        n = len(yourlist)\n",
    "        print(\"the value of a = \", a1, \", \",\n",
    "              \"the value of r = \", r, \", \",              \n",
    "              \"the value of n = \", n)\n",
    "    # When the first argument is equal to zero\n",
    "    except:\n",
    "        print(\"Please check your first argument of list\")"
   ]
  },
  {
   "cell_type": "code",
   "execution_count": 10,
   "id": "26d86a1a-3a00-4e0d-98c2-4821566f0ab2",
   "metadata": {},
   "outputs": [
    {
     "name": "stdout",
     "output_type": "stream",
     "text": [
      "the value of a =  2 ,  the value of r =  2.0 ,  the value of n =  8\n"
     ]
    }
   ],
   "source": [
    "Geometric_list([2, 4, 8, 16, 32, 64, 128, 256])"
   ]
  },
  {
   "cell_type": "code",
   "execution_count": 11,
   "id": "5a25c065-9c0d-4ec0-8e92-0b168488b048",
   "metadata": {},
   "outputs": [
    {
     "name": "stdout",
     "output_type": "stream",
     "text": [
      "Please check your first argument of list\n"
     ]
    }
   ],
   "source": [
    "Geometric_list([0, 2, 4])"
   ]
  },
  {
   "cell_type": "code",
   "execution_count": 12,
   "id": "d3b34644-934f-4f24-8d37-584b8a1f640f",
   "metadata": {},
   "outputs": [
    {
     "name": "stdout",
     "output_type": "stream",
     "text": [
      "[3, 6, 12, 24]\n",
      "the value of a =  3 ,  the value of r =  2.0 ,  the value of n =  4\n"
     ]
    }
   ],
   "source": [
    "tmp = geometric_progress(3, 2, 4)\n",
    "print(tmp)\n",
    "Geometric_list(tmp)"
   ]
  },
  {
   "cell_type": "markdown",
   "id": "716bde5b-6d41-4b36-bd24-811817e27511",
   "metadata": {},
   "source": [
    "## Exercise 4 (1 pt)\n",
    " Find the sum of the following series, 1+2.5+ 4+ 5.5+ 7+ ....+ 61\n",
    "\n",
    "* Arithmetic Sequence: \n",
    "$a_{n} = a_{1} + (n-1)d$\n",
    "* Sum of Arithmetic Sequence:\n",
    "$S_{n} = n (\\frac{a_{1} + a_{n}}{2}) $"
   ]
  },
  {
   "cell_type": "code",
   "execution_count": 13,
   "id": "40662022-484d-43c4-8528-678a04a6cee4",
   "metadata": {},
   "outputs": [],
   "source": [
    "def Arithmetic_Sequence_sum(first, end, diff):\n",
    "    numTerms = 1 + (end - first)/diff\n",
    "    if numTerms > 0 :\n",
    "        return numTerms * (first + end) / 2"
   ]
  },
  {
   "cell_type": "code",
   "execution_count": 14,
   "id": "40c60387-9788-4e70-9ca4-334f3531c015",
   "metadata": {},
   "outputs": [
    {
     "data": {
      "text/plain": [
       "1271.0"
      ]
     },
     "execution_count": 14,
     "metadata": {},
     "output_type": "execute_result"
    }
   ],
   "source": [
    "Arithmetic_Sequence_sum(1, 61, 1.5)"
   ]
  },
  {
   "cell_type": "code",
   "execution_count": 15,
   "id": "eec8d6ed-69b6-422b-bcf1-ff5f9cf53fb3",
   "metadata": {},
   "outputs": [
    {
     "data": {
      "text/plain": [
       "10.0"
      ]
     },
     "execution_count": 15,
     "metadata": {},
     "output_type": "execute_result"
    }
   ],
   "source": [
    "Arithmetic_Sequence_sum(1, 4, diff = 1)"
   ]
  },
  {
   "cell_type": "code",
   "execution_count": null,
   "id": "af6c33cf-d542-45af-a8ab-b7f0f88340fd",
   "metadata": {},
   "outputs": [],
   "source": []
  }
 ],
 "metadata": {
  "kernelspec": {
   "display_name": "Python 3 (ipykernel)",
   "language": "python",
   "name": "python3"
  },
  "language_info": {
   "codemirror_mode": {
    "name": "ipython",
    "version": 3
   },
   "file_extension": ".py",
   "mimetype": "text/x-python",
   "name": "python",
   "nbconvert_exporter": "python",
   "pygments_lexer": "ipython3",
   "version": "3.9.6"
  }
 },
 "nbformat": 4,
 "nbformat_minor": 5
}
